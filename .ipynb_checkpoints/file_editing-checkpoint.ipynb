{
 "cells": [
  {
   "cell_type": "code",
   "execution_count": 28,
   "metadata": {
    "collapsed": false
   },
   "outputs": [
    {
     "name": "stdout",
     "output_type": "stream",
     "text": [
      "C:\\Users\\user\\Halturing\\Edit txt files in folder\\Folder\n",
      "['.ipynb_checkpoints', 'test.txt']\n",
      ".ipynb_checkpoints\n",
      "test.txt\n"
     ]
    },
    {
     "ename": "ValueError",
     "evalue": "Must have exactly one of create/read/write/append mode and at most one plus",
     "output_type": "error",
     "traceback": [
      "\u001b[0;31m---------------------------------------------------------------------------\u001b[0m",
      "\u001b[0;31mValueError\u001b[0m                                Traceback (most recent call last)",
      "\u001b[0;32m<ipython-input-28-cb762544cce4>\u001b[0m in \u001b[0;36m<module>\u001b[0;34m()\u001b[0m\n\u001b[1;32m     31\u001b[0m \u001b[0mtext\u001b[0m \u001b[1;33m=\u001b[0m \u001b[1;34m'first stroka\\n'\u001b[0m\u001b[1;33m\u001b[0m\u001b[0m\n\u001b[1;32m     32\u001b[0m \u001b[1;32mfor\u001b[0m \u001b[0mfile\u001b[0m \u001b[1;32min\u001b[0m \u001b[0mos\u001b[0m\u001b[1;33m.\u001b[0m\u001b[0mlistdir\u001b[0m\u001b[1;33m(\u001b[0m\u001b[1;33m)\u001b[0m\u001b[1;33m:\u001b[0m\u001b[1;33m\u001b[0m\u001b[0m\n\u001b[0;32m---> 33\u001b[0;31m     \u001b[0madd_first\u001b[0m\u001b[1;33m(\u001b[0m\u001b[0mfile\u001b[0m\u001b[1;33m,\u001b[0m \u001b[0mtext\u001b[0m\u001b[1;33m)\u001b[0m\u001b[1;33m\u001b[0m\u001b[0m\n\u001b[0m\u001b[1;32m     34\u001b[0m \u001b[1;31m# with open('test.txt', 'r') as f:\u001b[0m\u001b[1;33m\u001b[0m\u001b[1;33m\u001b[0m\u001b[0m\n\u001b[1;32m     35\u001b[0m \u001b[1;31m#     file_text = text + f.read()\u001b[0m\u001b[1;33m\u001b[0m\u001b[1;33m\u001b[0m\u001b[0m\n",
      "\u001b[0;32m<ipython-input-28-cb762544cce4>\u001b[0m in \u001b[0;36madd_first\u001b[0;34m(file_name, first_line)\u001b[0m\n\u001b[1;32m      9\u001b[0m \u001b[1;33m\u001b[0m\u001b[0m\n\u001b[1;32m     10\u001b[0m \u001b[1;32mdef\u001b[0m \u001b[0madd_first\u001b[0m\u001b[1;33m(\u001b[0m\u001b[0mfile_name\u001b[0m\u001b[1;33m,\u001b[0m \u001b[0mfirst_line\u001b[0m\u001b[1;33m)\u001b[0m\u001b[1;33m:\u001b[0m\u001b[1;33m\u001b[0m\u001b[0m\n\u001b[0;32m---> 11\u001b[0;31m     \u001b[0mf\u001b[0m \u001b[1;33m=\u001b[0m \u001b[0mopen\u001b[0m\u001b[1;33m(\u001b[0m\u001b[0mfile_name\u001b[0m\u001b[1;33m,\u001b[0m \u001b[1;34m'+'\u001b[0m\u001b[1;33m)\u001b[0m\u001b[1;33m\u001b[0m\u001b[0m\n\u001b[0m\u001b[1;32m     12\u001b[0m     \u001b[0mfile_text\u001b[0m \u001b[1;33m=\u001b[0m \u001b[0mfirst_line\u001b[0m \u001b[1;33m+\u001b[0m \u001b[0mf\u001b[0m\u001b[1;33m.\u001b[0m\u001b[0mread\u001b[0m\u001b[1;33m(\u001b[0m\u001b[1;33m)\u001b[0m\u001b[1;33m\u001b[0m\u001b[0m\n\u001b[1;32m     13\u001b[0m     \u001b[0mf\u001b[0m\u001b[1;33m.\u001b[0m\u001b[0mwrite\u001b[0m\u001b[1;33m(\u001b[0m\u001b[0mfile_text\u001b[0m\u001b[1;33m)\u001b[0m\u001b[1;33m\u001b[0m\u001b[0m\n",
      "\u001b[0;31mValueError\u001b[0m: Must have exactly one of create/read/write/append mode and at most one plus"
     ]
    }
   ],
   "source": [
    "# Добрый день. Необходим такой скриптик с очень краткими пояснениями. \n",
    "\n",
    "# Есть директория с кучей текстовых файлов, в каждом уже есть какие-то записи по строкам. Перебором ля каждого из файлов необходимо :\n",
    "# 1) вставить первую строку с определённым текстом\n",
    "# 2) оставить из изначальных строк только каждую девятую\n",
    "# 3) в каждой строке заменить нижнее подчеркивание на пробел. \n",
    "import os\n",
    "import os.path\n",
    "\n",
    "def add_first(file_name, first_line):\n",
    "    f = open(file_name, '+')\n",
    "    file_text = first_line + f.read()\n",
    "    f.write(file_text)\n",
    "    f.close\n",
    "    \n",
    "\n",
    "path = 'Folder'\n",
    "#path = input('Введите имя папки: ')\n",
    "dir_path = os.path.join(os.getcwd(), path)\n",
    "print(os.getcwd())\n",
    "if os.getcwd().split('\\\\')[-1] != path:\n",
    "    os.chdir(dir_path)\n",
    "print(os.listdir())\n",
    "for i in os.listdir():\n",
    "    print(i)\n",
    "    if os.path.isfile(i):\n",
    "        with open(i, 'w') as f:\n",
    "            for i in range(30):\n",
    "                f.write('stroka_'+str(i+1)+'\\n')\n",
    "# file_path = os.path.join(os.getcwd(), 'te')\n",
    "text = 'first stroka\\n'\n",
    "for file in os.listdir():\n",
    "    add_first(file, text)\n",
    "# with open('test.txt', 'r') as f:\n",
    "#     file_text = text + f.read()\n",
    "with open('test.txt', 'w') as f:\n",
    "    f.write(file_text)\n",
    "# with open('test.txt', 'r') as f:\n",
    "#     print(f.read())\n",
    "with open('test.txt', 'r') as f:\n",
    "    for ind, line in enumerate(f.readlines()):\n",
    "        if (ind + 1)%9 == 0:\n",
    "            file_text += line\n",
    "            print(ind, line)"
   ]
  }
 ],
 "metadata": {
  "kernelspec": {
   "display_name": "Python 3",
   "language": "python",
   "name": "python3"
  },
  "language_info": {
   "codemirror_mode": {
    "name": "ipython",
    "version": 3
   },
   "file_extension": ".py",
   "mimetype": "text/x-python",
   "name": "python",
   "nbconvert_exporter": "python",
   "pygments_lexer": "ipython3",
   "version": "3.6.0"
  }
 },
 "nbformat": 4,
 "nbformat_minor": 2
}
