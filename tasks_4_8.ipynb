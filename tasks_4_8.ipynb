{
 "cells": [
  {
   "cell_type": "markdown",
   "metadata": {},
   "source": [
    "Задача 4.\n",
    "Число Армстронга — это такое натуральное число, которое равно сумме своих цифр, возведённых в степень, равную количеству его цифр. Найти все такие числа от 1 до n, где n вводится по запросу с клавиатуры. "
   ]
  },
  {
   "cell_type": "code",
   "execution_count": 16,
   "metadata": {
    "collapsed": false
   },
   "outputs": [
    {
     "name": "stdout",
     "output_type": "stream",
     "text": [
      "Enter number:100000\n",
      "Armstrong numbers: 1 2 3 4 5 6 7 8 9 153 370 371 407 1634 8208 9474 54748 92727 93084 "
     ]
    }
   ],
   "source": [
    "#Вводим n\n",
    "import numpy as np\n",
    "n = int(input('Enter number:'))\n",
    "# перебираем числа от 1 до n\n",
    "print('Armstrong numbers:', end = ' ')\n",
    "for i in range(1, n+1):\n",
    "    num_len = len(str(i)) # количество цифр в числе\n",
    "    num_list = np.array([int(c) for c in str(i)]) # составляем список цифр\n",
    "    pow_list = pow(num_list, num_len) # список из цифр возведенных в степень num_len\n",
    "    pow_sum = np.sum(pow_list) # сумма элементов списка pow_list\n",
    "    # проверяем условие на число Армстронга, если выполняется, то выводим через пробел\n",
    "    if pow_sum == i:\n",
    "        print(i, end =' ')\n",
    "\n"
   ]
  },
  {
   "cell_type": "markdown",
   "metadata": {},
   "source": [
    "Задача 5.\n",
    "Создать функцию, вычисляющую НОК двух целых чисел a и b, по запросу введенных с клавиатуры."
   ]
  },
  {
   "cell_type": "code",
   "execution_count": 32,
   "metadata": {
    "collapsed": false
   },
   "outputs": [
    {
     "name": "stdout",
     "output_type": "stream",
     "text": [
      "Enter a:56\n",
      "Enter b:67\n",
      "3752\n"
     ]
    }
   ],
   "source": [
    "a = int(input('Enter a:'))\n",
    "b = int(input('Enter b:'))\n",
    "def nok(a, b):\n",
    "    n= max(a,b)\n",
    "    while n % min(a,b) != 0:\n",
    "        n += max(a,b)\n",
    "    return n\n",
    "n = nok(a,b)\n",
    "print(n)"
   ]
  },
  {
   "cell_type": "markdown",
   "metadata": {},
   "source": [
    "Задача 6.\n",
    "Написать программу определения количества шестизначных \"счастливых\" трамвайных билетов,\n",
    "у которых сумма первых трех цифр совпадает с суммой трех последних."
   ]
  },
  {
   "cell_type": "code",
   "execution_count": 54,
   "metadata": {
    "collapsed": false
   },
   "outputs": [
    {
     "name": "stdout",
     "output_type": "stream",
     "text": [
      "55252\n"
     ]
    }
   ],
   "source": [
    "sum_list = [] # список для сумм цифр\n",
    "all_happy = 0 # переменная для количества счастливых билетов\n",
    "for i in range(1000): # перебираем все трехзначные номера(с 0 потомучто 000=0, 001=1 и т.д.)\n",
    "    nums = [int(s) for s in str(i)] # разбиваем число на цифры\n",
    "    num_sum = sum(nums) # считаем сумму цифр\n",
    "    sum_list.append(num_sum) # добавляем сумму цифр в список\n",
    "sum_set = set(sum_list) # sum_set множество из неповторяющихся сумм цифр\n",
    "for k in sum_set:   # для каждого значения суммы\n",
    "    happy_k = sum_list.count(k)# считаем сколько оно повторяется в sum_list\n",
    "    # для каждого одинакового значения суммы k можно сделать happy_k сочетаний, поэтому возводим в квадрат\n",
    "    # и добавляем к количеству счастливых билетов\n",
    "    all_happy += pow(happy_k, 2)\n",
    "print(all_happy)"
   ]
  },
  {
   "cell_type": "markdown",
   "metadata": {},
   "source": [
    "Задача 7.\n",
    "Число из десятичной системы счисления, введенное по запросу с клавиатуры, в случае правильной записи преобразовать:\n",
    "1) в двоичную систему \n",
    "2) в восьмеричную систему и результат вывести на экран.\n",
    "В противном случае предложить ввести десятичное число заново. \n"
   ]
  },
  {
   "cell_type": "code",
   "execution_count": 63,
   "metadata": {
    "collapsed": false
   },
   "outputs": [
    {
     "name": "stdout",
     "output_type": "stream",
     "text": [
      "Введите десятичное число:9\n",
      "Число в двоичной системе: 1001\n",
      "Число в восьмеричной системе: 11\n"
     ]
    }
   ],
   "source": [
    "x = input('Введите десятичное число:')\n",
    "while not x.isdigit(): # проверяем состоит ли введенная строка из цифр до тех пор пока она не будет введена корректно\n",
    "    x = input('Введите десятичное число корректно:')\n",
    "\n",
    "print('Число в двоичной системе:', bin(int(x)).lstrip('0b')) # переводим число в двоичную систему и убираем первые два символа 0b\n",
    "print('Число в восьмеричной системе:', oct(int(x)).lstrip('0o')) # переводим в восьмеричную систему и убираем первые 2 символа 0o"
   ]
  },
  {
   "cell_type": "markdown",
   "metadata": {},
   "source": [
    "Задача 8.\n",
    "Создать функцию, осуществляющую шифрование русского текста по методу Цезаря \n",
    "(сдвиг каждой буквы исходного теста вправо на 3 позиции).\n"
   ]
  },
  {
   "cell_type": "code",
   "execution_count": 81,
   "metadata": {
    "collapsed": false
   },
   "outputs": [
    {
     "name": "stdout",
     "output_type": "stream",
     "text": [
      "где жзи абв\n"
     ]
    }
   ],
   "source": [
    "# русский алфавит имеет свою кодировку в ascii а=1073, .., я=1103\n",
    "def cesar(string): # функция принимает строку\n",
    "    coded_string = '' # создаем пустую закодированную строку\n",
    "    for s in string.lower(): # переводим строку в нижний регистр и перебираем символы в строке\n",
    "        ascii_code = ord(s) # преобразуем символ в его ascii код\n",
    "        if ascii_code == 32:# если пробел, то ничего не меняем\n",
    "            coded_string += s # и прибавляем к строке\n",
    "        elif ascii_code > 1100: # если это последние три буквы\n",
    "            coded_string += chr(ascii_code -32 + 3) # то возвращаемся к началу алфавита\n",
    "        else: # во всех остальных случаях\n",
    "                # сдвигаем код на 3 позиции, возвращаем символ и добавляем к coded_string\n",
    "            coded_string += chr(ascii_code + 3) \n",
    "    return coded_string # возвращаем закодированную строку\n",
    "\n",
    "coded_string = cesar('абв где эюя') # вызываем функцию и присваиваем возвращаемое значение переменной coded_string\n",
    "print(coded_string) # выводим строку\n"
   ]
  },
  {
   "cell_type": "markdown",
   "metadata": {},
   "source": [
    "Задача 9.\n",
    "Создать базу данных из 6-ти учащихся, в которой указывается ФИО, оценка за экзамены по трем предметам.\n",
    "Выбрать из них учащегося с самым низким балом и отчислить его (удалить из базы). Обновленную базу данных вывести на печать. \n"
   ]
  },
  {
   "cell_type": "code",
   "execution_count": 2,
   "metadata": {
    "collapsed": false
   },
   "outputs": [
    {
     "name": "stdout",
     "output_type": "stream",
     "text": [
      "Список студентов:\n",
      "\n",
      "ФИО\n",
      "s          | Оценки: 1 2 3 \n",
      "s          | Оценки: 1 2 3 \n",
      "sldfkj     | Оценки: 2 3 4 \n",
      "d          | Оценки: 1 2 3 \n",
      "s          | Оценки: 1 2 3 \n",
      "s          | Оценки: 2 3 4 \n",
      "wqer       | Оценки: 3 4 5 \n",
      "alsdkfj    | Оценки: 4 4 4 \n",
      "sdf        | Оценки: 3 4 5 \n"
     ]
    }
   ],
   "source": [
    "import sqlite3\n",
    "from pprint import pprint\n",
    "conn = sqlite3.connect('students.db')\n",
    "c = conn.cursor()\n",
    "c.execute('''CREATE TABLE IF NOT EXISTS students (student_name varchar,\n",
    "                                                  score1 varchar,\n",
    "                                                  score2 varchar,\n",
    "                                                  score3 varchar)''')\n",
    "#Функция занесения пользователя в базу\n",
    "def add_student(student_name,score1, score2, score3):\n",
    "    c.execute(\"INSERT INTO students (student_name,score1, score2, score3) VALUES ('%s','%s','%s','%s')\"%(student_name,score1, score2, score3))\n",
    "    conn.commit()\n",
    "#Вводим данные\n",
    "#n = int(input('Введите количество студентов:'))\n",
    "#student_name = input(\"Введите ФИО студента\\n\")\n",
    "#score1, score2, score3 = input(\"Введите оценки по трем предметам:\\n\").split(' ')\n",
    "#print('\\n')\n",
    "#Делаем запрос в базу\n",
    "print(\"Список студентов:\\n\")\n",
    "print('ФИО')\n",
    "#add_student(student_name,score1,score2,score3)\n",
    "c.execute('SELECT * FROM students')\n",
    "row = c.fetchone()\n",
    "#выводим список пользователей в цикле\n",
    "while row is not None:\n",
    "    print('%-10s | Оценки: %-2s%-2s%-2s'%(row[0],row[1],row[2],row[3]))\n",
    "    row = c.fetchone()\n",
    "# закрываем соединение с базой\n",
    "#for i in row:\n",
    "#    avg = mean(row[])\n",
    "\n",
    "c.close()\n",
    "conn.close()"
   ]
  },
  {
   "cell_type": "code",
   "execution_count": 7,
   "metadata": {
    "collapsed": false
   },
   "outputs": [
    {
     "name": "stdout",
     "output_type": "stream",
     "text": [
      "s          | Оценки: 1 2 3 \n",
      "[2.0]\n",
      "s          | Оценки: 1 2 3 \n",
      "[2.0, 2.0]\n",
      "sldfkj     | Оценки: 2 3 4 \n",
      "[2.0, 2.0, 3.0]\n",
      "d          | Оценки: 1 2 3 \n",
      "[2.0, 2.0, 3.0, 2.0]\n",
      "s          | Оценки: 1 2 3 \n",
      "[2.0, 2.0, 3.0, 2.0, 2.0]\n",
      "s          | Оценки: 2 3 4 \n",
      "[2.0, 2.0, 3.0, 2.0, 2.0, 3.0]\n",
      "wqer       | Оценки: 3 4 5 \n",
      "[2.0, 2.0, 3.0, 2.0, 2.0, 3.0, 4.0]\n",
      "alsdkfj    | Оценки: 4 4 4 \n",
      "[2.0, 2.0, 3.0, 2.0, 2.0, 3.0, 4.0, 4.0]\n",
      "sdf        | Оценки: 3 4 5 \n",
      "[2.0, 2.0, 3.0, 2.0, 2.0, 3.0, 4.0, 4.0, 4.0]\n",
      "2.0\n"
     ]
    },
    {
     "ename": "OperationalError",
     "evalue": "near \"row\": syntax error",
     "output_type": "error",
     "traceback": [
      "\u001b[0;31m---------------------------------------------------------------------------\u001b[0m",
      "\u001b[0;31mOperationalError\u001b[0m                          Traceback (most recent call last)",
      "\u001b[0;32m<ipython-input-7-f0c5fd3dfcf5>\u001b[0m in \u001b[0;36m<module>\u001b[0;34m()\u001b[0m\n\u001b[1;32m     16\u001b[0m \u001b[1;32mwhile\u001b[0m \u001b[0mrow\u001b[0m \u001b[1;32mis\u001b[0m \u001b[1;32mnot\u001b[0m \u001b[1;32mNone\u001b[0m\u001b[1;33m:\u001b[0m\u001b[1;33m\u001b[0m\u001b[0m\n\u001b[1;32m     17\u001b[0m     \u001b[1;32mif\u001b[0m \u001b[1;33m(\u001b[0m\u001b[0mint\u001b[0m\u001b[1;33m(\u001b[0m\u001b[0mrow\u001b[0m\u001b[1;33m[\u001b[0m\u001b[1;36m1\u001b[0m\u001b[1;33m]\u001b[0m\u001b[1;33m)\u001b[0m \u001b[1;33m+\u001b[0m \u001b[0mint\u001b[0m\u001b[1;33m(\u001b[0m\u001b[0mrow\u001b[0m\u001b[1;33m[\u001b[0m\u001b[1;36m2\u001b[0m\u001b[1;33m]\u001b[0m\u001b[1;33m)\u001b[0m \u001b[1;33m+\u001b[0m \u001b[0mint\u001b[0m\u001b[1;33m(\u001b[0m\u001b[0mrow\u001b[0m\u001b[1;33m[\u001b[0m\u001b[1;36m3\u001b[0m\u001b[1;33m]\u001b[0m\u001b[1;33m)\u001b[0m\u001b[1;33m)\u001b[0m\u001b[1;33m/\u001b[0m\u001b[1;36m3\u001b[0m \u001b[1;33m==\u001b[0m \u001b[0mmin_avg\u001b[0m\u001b[1;33m:\u001b[0m\u001b[1;33m\u001b[0m\u001b[0m\n\u001b[0;32m---> 18\u001b[0;31m         \u001b[0mc\u001b[0m\u001b[1;33m.\u001b[0m\u001b[0mexecute\u001b[0m\u001b[1;33m(\u001b[0m\u001b[1;34m'DELETE row from students'\u001b[0m\u001b[1;33m)\u001b[0m\u001b[1;33m\u001b[0m\u001b[0m\n\u001b[0m\u001b[1;32m     19\u001b[0m     \u001b[0mprint\u001b[0m\u001b[1;33m(\u001b[0m\u001b[1;34m'%-10s | Оценки: %-2s%-2s%-2s'\u001b[0m\u001b[1;33m%\u001b[0m\u001b[1;33m(\u001b[0m\u001b[0mrow\u001b[0m\u001b[1;33m[\u001b[0m\u001b[1;36m0\u001b[0m\u001b[1;33m]\u001b[0m\u001b[1;33m,\u001b[0m\u001b[0mrow\u001b[0m\u001b[1;33m[\u001b[0m\u001b[1;36m1\u001b[0m\u001b[1;33m]\u001b[0m\u001b[1;33m,\u001b[0m\u001b[0mrow\u001b[0m\u001b[1;33m[\u001b[0m\u001b[1;36m2\u001b[0m\u001b[1;33m]\u001b[0m\u001b[1;33m,\u001b[0m\u001b[0mrow\u001b[0m\u001b[1;33m[\u001b[0m\u001b[1;36m3\u001b[0m\u001b[1;33m]\u001b[0m\u001b[1;33m)\u001b[0m\u001b[1;33m)\u001b[0m\u001b[1;33m\u001b[0m\u001b[0m\n\u001b[1;32m     20\u001b[0m     \u001b[0mrow\u001b[0m \u001b[1;33m=\u001b[0m \u001b[0mc\u001b[0m\u001b[1;33m.\u001b[0m\u001b[0mfetchone\u001b[0m\u001b[1;33m(\u001b[0m\u001b[1;33m)\u001b[0m\u001b[1;33m\u001b[0m\u001b[0m\n",
      "\u001b[0;31mOperationalError\u001b[0m: near \"row\": syntax error"
     ]
    }
   ],
   "source": [
    "conn = sqlite3.connect('students.db')\n",
    "c = conn.cursor()\n",
    "c.execute('SELECT * FROM students')\n",
    "row = c.fetchone()\n",
    "avg = []\n",
    "while row is not None:\n",
    "    print('%-10s | Оценки: %-2s%-2s%-2s'%(row[0],row[1],row[2],row[3]))\n",
    "    scores = [int(i) for i in row[1:]]\n",
    "    avg.append(sum(scores)/len(scores))\n",
    "    print(avg)\n",
    "    row = c.fetchone()\n",
    "min_avg = min(avg)\n",
    "print(min_avg)\n",
    "c.execute('SELECT * FROM students')\n",
    "row = c.fetchone()\n",
    "while row is not None:\n",
    "    if (int(row[1]) + int(row[2]) + int(row[3]))/3 == min_avg:\n",
    "        c.execute('DELETE row from students')\n",
    "    print('%-10s | Оценки: %-2s%-2s%-2s'%(row[0],row[1],row[2],row[3]))\n",
    "    row = c.fetchone()"
   ]
  },
  {
   "cell_type": "code",
   "execution_count": 83,
   "metadata": {
    "collapsed": false
   },
   "outputs": [
    {
     "name": "stdout",
     "output_type": "stream",
     "text": [
      "          Матан  Программирование  Физика\n",
      "student1      5                 5       5\n",
      "student2      4                 4       4\n",
      "student3      3                 3       3\n",
      "student4      4                 4       5\n",
      "student5      3                 3       3\n",
      "student6      5                 5       4\n",
      "          Матан  Программирование  Физика  Средний бал:\n",
      "student1      5                 5       5      5.000000\n",
      "student2      4                 4       4      4.000000\n",
      "student3      3                 3       3      3.000000\n",
      "student4      4                 4       5      4.333333\n",
      "student5      3                 3       3      3.000000\n",
      "student6      5                 5       4      4.666667\n",
      "Отчислены студенты:\n",
      "student3\n",
      "student5\n",
      "          Матан  Программирование  Физика  Средний бал:\n",
      "student1      5                 5       5      5.000000\n",
      "student2      4                 4       4      4.000000\n",
      "student4      4                 4       5      4.333333\n",
      "student6      5                 5       4      4.666667\n"
     ]
    }
   ],
   "source": [
    "# Подключаем библиотеки\n",
    "import pandas as pd\n",
    "import numpy as np\n",
    "# Создаем базу данных студентов с оценками по трем предметам\n",
    "matan = pd.Series({'student1':5, 'student2':4, 'student3':3, 'student4':4, 'student5':3, 'student6':5})\n",
    "physics = pd.Series({'student1':5, 'student2':4, 'student3':3, 'student4':5, 'student5':3, 'student6':4})\n",
    "programming = pd.Series({'student1':5, 'student2':4, 'student3':3, 'student4':4, 'student5':3, 'student6':5})\n",
    " \n",
    "students_list = pd.DataFrame({'Матан': matan, 'Физика': physics, 'Программирование': programming})\n",
    "print(students_list) # выводим\n",
    "# Добавлим столбец средних значений оценок\n",
    "mean_score = students_list.mean(axis = 1) # считаем среднее по строкам\n",
    "students_list['Средний бал:'] = mean_score # создаем стобец с данными\n",
    "print(students_list) # выводим обновленную базу данных\n",
    "\n",
    "min_avg = mean_score.min() # находим минимальное из средних значений\n",
    "bad_students = mean_score[mean_score==min_avg].index # находим плохих студентов у которых среднее значение = минимальному\n",
    "print('Отчислены студенты:')\n",
    "for i in bad_students:\n",
    "    print(i)\n",
    "students_list.drop(bad_students, inplace=True) # удаляем плохих студентов\n",
    "print(students_list)"
   ]
  },
  {
   "cell_type": "markdown",
   "metadata": {},
   "source": [
    "Задача 10.\n",
    "Составить журнал успеваемости по нескольким предметам, в котором указываются все полученные оценки по каждому предмету.\n",
    "В зависимости от введенного по запросу номера предмета в журнале вывести на печать его название и средний бал.\n"
   ]
  },
  {
   "cell_type": "code",
   "execution_count": 121,
   "metadata": {
    "collapsed": false
   },
   "outputs": [
    {
     "name": "stdout",
     "output_type": "stream",
     "text": [
      "[2 2 4 3 5 3 5 5 2 2]\n"
     ]
    },
    {
     "ename": "ValueError",
     "evalue": "['subj1' 'subj2' 'subj3' 'subj4'] not contained in the index",
     "output_type": "error",
     "traceback": [
      "\u001b[0;31m---------------------------------------------------------------------------\u001b[0m",
      "\u001b[0;31mValueError\u001b[0m                                Traceback (most recent call last)",
      "\u001b[0;32m<ipython-input-121-d9c30bf58c97>\u001b[0m in \u001b[0;36m<module>\u001b[0;34m()\u001b[0m\n\u001b[1;32m      4\u001b[0m \u001b[0mprint\u001b[0m\u001b[1;33m(\u001b[0m\u001b[0mx\u001b[0m\u001b[1;33m[\u001b[0m\u001b[1;36m0\u001b[0m\u001b[1;33m]\u001b[0m\u001b[1;33m)\u001b[0m\u001b[1;33m\u001b[0m\u001b[0m\n\u001b[1;32m      5\u001b[0m \u001b[0mjournal\u001b[0m \u001b[1;33m=\u001b[0m \u001b[0mpd\u001b[0m\u001b[1;33m.\u001b[0m\u001b[0mSeries\u001b[0m\u001b[1;33m(\u001b[0m\u001b[0msubjects\u001b[0m\u001b[1;33m)\u001b[0m\u001b[1;31m#({subjects[0]:x[0],subjects[1]:x[1],subjects[2]:x[2],subjects[3]:x[3]})\u001b[0m\u001b[1;33m\u001b[0m\u001b[0m\n\u001b[0;32m----> 6\u001b[0;31m \u001b[0mjournal\u001b[0m\u001b[1;33m[\u001b[0m\u001b[0msubjects\u001b[0m\u001b[1;33m]\u001b[0m \u001b[1;33m=\u001b[0m \u001b[0mx\u001b[0m\u001b[1;33m\u001b[0m\u001b[0m\n\u001b[0m\u001b[1;32m      7\u001b[0m \u001b[0mprint\u001b[0m\u001b[1;33m(\u001b[0m\u001b[0mjournal\u001b[0m\u001b[1;33m)\u001b[0m\u001b[1;33m\u001b[0m\u001b[0m\n\u001b[1;32m      8\u001b[0m \u001b[0mn\u001b[0m \u001b[1;33m=\u001b[0m \u001b[0mint\u001b[0m\u001b[1;33m(\u001b[0m\u001b[0minput\u001b[0m\u001b[1;33m(\u001b[0m\u001b[1;34m'Введите номер предмета:'\u001b[0m\u001b[1;33m)\u001b[0m\u001b[1;33m)\u001b[0m\u001b[1;33m\u001b[0m\u001b[0m\n",
      "\u001b[0;32mC:\\Program Files\\Anaconda3\\lib\\site-packages\\pandas\\core\\series.py\u001b[0m in \u001b[0;36m__setitem__\u001b[0;34m(self, key, value)\u001b[0m\n\u001b[1;32m    751\u001b[0m         \u001b[1;31m# do the setitem\u001b[0m\u001b[1;33m\u001b[0m\u001b[1;33m\u001b[0m\u001b[0m\n\u001b[1;32m    752\u001b[0m         \u001b[0mcacher_needs_updating\u001b[0m \u001b[1;33m=\u001b[0m \u001b[0mself\u001b[0m\u001b[1;33m.\u001b[0m\u001b[0m_check_is_chained_assignment_possible\u001b[0m\u001b[1;33m(\u001b[0m\u001b[1;33m)\u001b[0m\u001b[1;33m\u001b[0m\u001b[0m\n\u001b[0;32m--> 753\u001b[0;31m         \u001b[0msetitem\u001b[0m\u001b[1;33m(\u001b[0m\u001b[0mkey\u001b[0m\u001b[1;33m,\u001b[0m \u001b[0mvalue\u001b[0m\u001b[1;33m)\u001b[0m\u001b[1;33m\u001b[0m\u001b[0m\n\u001b[0m\u001b[1;32m    754\u001b[0m         \u001b[1;32mif\u001b[0m \u001b[0mcacher_needs_updating\u001b[0m\u001b[1;33m:\u001b[0m\u001b[1;33m\u001b[0m\u001b[0m\n\u001b[1;32m    755\u001b[0m             \u001b[0mself\u001b[0m\u001b[1;33m.\u001b[0m\u001b[0m_maybe_update_cacher\u001b[0m\u001b[1;33m(\u001b[0m\u001b[1;33m)\u001b[0m\u001b[1;33m\u001b[0m\u001b[0m\n",
      "\u001b[0;32mC:\\Program Files\\Anaconda3\\lib\\site-packages\\pandas\\core\\series.py\u001b[0m in \u001b[0;36msetitem\u001b[0;34m(key, value)\u001b[0m\n\u001b[1;32m    747\u001b[0m                     \u001b[1;32mpass\u001b[0m\u001b[1;33m\u001b[0m\u001b[0m\n\u001b[1;32m    748\u001b[0m \u001b[1;33m\u001b[0m\u001b[0m\n\u001b[0;32m--> 749\u001b[0;31m             \u001b[0mself\u001b[0m\u001b[1;33m.\u001b[0m\u001b[0m_set_with\u001b[0m\u001b[1;33m(\u001b[0m\u001b[0mkey\u001b[0m\u001b[1;33m,\u001b[0m \u001b[0mvalue\u001b[0m\u001b[1;33m)\u001b[0m\u001b[1;33m\u001b[0m\u001b[0m\n\u001b[0m\u001b[1;32m    750\u001b[0m \u001b[1;33m\u001b[0m\u001b[0m\n\u001b[1;32m    751\u001b[0m         \u001b[1;31m# do the setitem\u001b[0m\u001b[1;33m\u001b[0m\u001b[1;33m\u001b[0m\u001b[0m\n",
      "\u001b[0;32mC:\\Program Files\\Anaconda3\\lib\\site-packages\\pandas\\core\\series.py\u001b[0m in \u001b[0;36m_set_with\u001b[0;34m(self, key, value)\u001b[0m\n\u001b[1;32m    795\u001b[0m                 \u001b[0mself\u001b[0m\u001b[1;33m.\u001b[0m\u001b[0m_set_values\u001b[0m\u001b[1;33m(\u001b[0m\u001b[0mkey\u001b[0m\u001b[1;33m.\u001b[0m\u001b[0mastype\u001b[0m\u001b[1;33m(\u001b[0m\u001b[0mnp\u001b[0m\u001b[1;33m.\u001b[0m\u001b[0mbool_\u001b[0m\u001b[1;33m)\u001b[0m\u001b[1;33m,\u001b[0m \u001b[0mvalue\u001b[0m\u001b[1;33m)\u001b[0m\u001b[1;33m\u001b[0m\u001b[0m\n\u001b[1;32m    796\u001b[0m             \u001b[1;32melse\u001b[0m\u001b[1;33m:\u001b[0m\u001b[1;33m\u001b[0m\u001b[0m\n\u001b[0;32m--> 797\u001b[0;31m                 \u001b[0mself\u001b[0m\u001b[1;33m.\u001b[0m\u001b[0m_set_labels\u001b[0m\u001b[1;33m(\u001b[0m\u001b[0mkey\u001b[0m\u001b[1;33m,\u001b[0m \u001b[0mvalue\u001b[0m\u001b[1;33m)\u001b[0m\u001b[1;33m\u001b[0m\u001b[0m\n\u001b[0m\u001b[1;32m    798\u001b[0m \u001b[1;33m\u001b[0m\u001b[0m\n\u001b[1;32m    799\u001b[0m     \u001b[1;32mdef\u001b[0m \u001b[0m_set_labels\u001b[0m\u001b[1;33m(\u001b[0m\u001b[0mself\u001b[0m\u001b[1;33m,\u001b[0m \u001b[0mkey\u001b[0m\u001b[1;33m,\u001b[0m \u001b[0mvalue\u001b[0m\u001b[1;33m)\u001b[0m\u001b[1;33m:\u001b[0m\u001b[1;33m\u001b[0m\u001b[0m\n",
      "\u001b[0;32mC:\\Program Files\\Anaconda3\\lib\\site-packages\\pandas\\core\\series.py\u001b[0m in \u001b[0;36m_set_labels\u001b[0;34m(self, key, value)\u001b[0m\n\u001b[1;32m    805\u001b[0m         \u001b[0mmask\u001b[0m \u001b[1;33m=\u001b[0m \u001b[0mindexer\u001b[0m \u001b[1;33m==\u001b[0m \u001b[1;33m-\u001b[0m\u001b[1;36m1\u001b[0m\u001b[1;33m\u001b[0m\u001b[0m\n\u001b[1;32m    806\u001b[0m         \u001b[1;32mif\u001b[0m \u001b[0mmask\u001b[0m\u001b[1;33m.\u001b[0m\u001b[0many\u001b[0m\u001b[1;33m(\u001b[0m\u001b[1;33m)\u001b[0m\u001b[1;33m:\u001b[0m\u001b[1;33m\u001b[0m\u001b[0m\n\u001b[0;32m--> 807\u001b[0;31m             \u001b[1;32mraise\u001b[0m \u001b[0mValueError\u001b[0m\u001b[1;33m(\u001b[0m\u001b[1;34m'%s not contained in the index'\u001b[0m \u001b[1;33m%\u001b[0m \u001b[0mstr\u001b[0m\u001b[1;33m(\u001b[0m\u001b[0mkey\u001b[0m\u001b[1;33m[\u001b[0m\u001b[0mmask\u001b[0m\u001b[1;33m]\u001b[0m\u001b[1;33m)\u001b[0m\u001b[1;33m)\u001b[0m\u001b[1;33m\u001b[0m\u001b[0m\n\u001b[0m\u001b[1;32m    808\u001b[0m         \u001b[0mself\u001b[0m\u001b[1;33m.\u001b[0m\u001b[0m_set_values\u001b[0m\u001b[1;33m(\u001b[0m\u001b[0mindexer\u001b[0m\u001b[1;33m,\u001b[0m \u001b[0mvalue\u001b[0m\u001b[1;33m)\u001b[0m\u001b[1;33m\u001b[0m\u001b[0m\n\u001b[1;32m    809\u001b[0m \u001b[1;33m\u001b[0m\u001b[0m\n",
      "\u001b[0;31mValueError\u001b[0m: ['subj1' 'subj2' 'subj3' 'subj4'] not contained in the index"
     ]
    }
   ],
   "source": [
    "import numpy as np\n",
    "subjects = np.array(['subj1', 'subj2', 'subj3', 'subj4'], dtype = str)\n",
    "x = np.random.choice([2,3,4,5], (len(subjects),10))\n",
    "print(x[0])\n",
    "journal = pd.Series(subjects)#({subjects[0]:x[0],subjects[1]:x[1],subjects[2]:x[2],subjects[3]:x[3]})\n",
    "journal[subjects] = x\n",
    "print(journal)\n",
    "n = int(input('Введите номер предмета:'))\n",
    "print(journal[n-1].mean())\n",
    "lst"
   ]
  }
 ],
 "metadata": {
  "anaconda-cloud": {},
  "kernelspec": {
   "display_name": "Python [default]",
   "language": "python",
   "name": "python3"
  },
  "language_info": {
   "codemirror_mode": {
    "name": "ipython",
    "version": 3
   },
   "file_extension": ".py",
   "mimetype": "text/x-python",
   "name": "python",
   "nbconvert_exporter": "python",
   "pygments_lexer": "ipython3",
   "version": "3.5.2"
  }
 },
 "nbformat": 4,
 "nbformat_minor": 1
}
