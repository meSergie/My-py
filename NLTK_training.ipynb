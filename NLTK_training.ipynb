{
 "cells": [
  {
   "cell_type": "code",
   "execution_count": 2,
   "metadata": {
    "collapsed": false
   },
   "outputs": [],
   "source": [
    "import nltk\n",
    "#nltk.download()"
   ]
  },
  {
   "cell_type": "code",
   "execution_count": 3,
   "metadata": {
    "collapsed": false
   },
   "outputs": [
    {
     "name": "stdout",
     "output_type": "stream",
     "text": [
      "*** Introductory Examples for the NLTK Book ***\n",
      "Loading text1, ..., text9 and sent1, ..., sent9\n",
      "Type the name of the text or sentence to view it.\n",
      "Type: 'texts()' or 'sents()' to list the materials.\n",
      "text1: Moby Dick by Herman Melville 1851\n",
      "text2: Sense and Sensibility by Jane Austen 1811\n",
      "text3: The Book of Genesis\n",
      "text4: Inaugural Address Corpus\n",
      "text5: Chat Corpus\n",
      "text6: Monty Python and the Holy Grail\n",
      "text7: Wall Street Journal\n",
      "text8: Personals Corpus\n",
      "text9: The Man Who Was Thursday by G . K . Chesterton 1908\n"
     ]
    }
   ],
   "source": [
    "from nltk.book import *"
   ]
  },
  {
   "cell_type": "code",
   "execution_count": 70,
   "metadata": {
    "collapsed": false
   },
   "outputs": [
    {
     "name": "stdout",
     "output_type": "stream",
     "text": [
      "19836\n",
      "141575\n",
      "27912\n",
      "47749\n",
      "69091\n",
      "92375\n",
      "120030\n",
      "126516\n",
      "129595\n",
      "139777\n",
      "[27911, 47748, 69090, 92374, 120029, 126515, 129594, 139776]\n",
      "['the', 'you', 'her', 'them', 'the', 'her', 'his', 'the']\n",
      "Displaying 13 of 13 matches:\n",
      "they are not certainties ? Is nothing due to the man whom we have all such reas\n",
      "I really thought some explanation was due to you after my making such particula\n",
      "hs at the park , and to assist in the due celebration of that festival which re\n",
      "ny one was expected . They arrived in due time at the place of destination , an\n",
      "happy , and felt that every thing was due to her which might make her at all le\n",
      "iend and almost a relation , were his due , by the observant eyes of Lucy , tho\n",
      " girls ; and I think the attention is due to them , as their uncle did so very \n",
      "plied , impatiently ; \" less than was due to the past , beyond a doubt , and in\n",
      "al ' s , the reward of her sister was due , and wished any thing rather than Mr\n",
      " of respect and kind wishes as seemed due to her own heart from a secret acknow\n",
      "deserve , I had given less than their due . But you ,-- you above all , above m\n",
      "nd lay open such facts as were really due to his character , without any embell\n",
      "real favour and preference . THAT was due to the folly of Robert , and the cunn\n",
      "None\n"
     ]
    }
   ],
   "source": [
    "import re\n",
    "due_to = ('due', 'to')\n",
    "text2_bigrams = list(nltk.bigrams(text2))\n",
    "print(text1_bigrams[27912:].index(due_to))\n",
    "#print(text2.concordance('due'))\n",
    "#count(('due','to'),list(bigrams(text1)))\n",
    "due_to_word = ('due', 'to', 'the')\n",
    "text2_trigrams = list(nltk.trigrams(text2))\n",
    "catch =1\n",
    "start = 0\n",
    "index_list = []\n",
    "print(len(text2_bigrams))\n",
    "words_after = []\n",
    "while catch!=0:\n",
    "    #if not text2_bigrams[0:].index(due_to):\n",
    "    #    catch = 0\n",
    "    #else:\n",
    "    try:\n",
    "        ind = text2_bigrams[start:].index(due_to)\n",
    "        index_list.append(start + ind)\n",
    "        start += ind + 1\n",
    "        words_after.append(text2_bigrams[start][1])\n",
    "        print(start)\n",
    "    except ValueError:\n",
    "        catch = 0\n",
    "print(index_list)\n",
    "print(words_after)\n",
    "print(text2.concordance('due'))"
   ]
  },
  {
   "cell_type": "code",
   "execution_count": 42,
   "metadata": {
    "collapsed": false
   },
   "outputs": [
    {
     "data": {
      "text/plain": [
       "<Text: Moby Dick by Herman Melville 1851>"
      ]
     },
     "execution_count": 42,
     "metadata": {},
     "output_type": "execute_result"
    }
   ],
   "source": [
    "import nltk.corpus\n",
    "from nltk.text import Text\n",
    "moby = Text(nltk.corpus.gutenberg.words('melville-moby_dick.txt'))\n",
    "moby\n",
    "#?text1"
   ]
  }
 ],
 "metadata": {
  "kernelspec": {
   "display_name": "Python 3",
   "language": "python",
   "name": "python3"
  },
  "language_info": {
   "codemirror_mode": {
    "name": "ipython",
    "version": 3
   },
   "file_extension": ".py",
   "mimetype": "text/x-python",
   "name": "python",
   "nbconvert_exporter": "python",
   "pygments_lexer": "ipython3",
   "version": "3.6.0"
  }
 },
 "nbformat": 4,
 "nbformat_minor": 2
}
